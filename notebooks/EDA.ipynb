
{
 "cells": [
  {
   "cell_type": "markdown",
   "metadata": {},
   "source": ["# EDA DeepStock\n", "Análise exploratória de dados de séries temporais"]
  }
 ],
 "metadata": {},
 "nbformat": 4,
 "nbformat_minor": 5
}
